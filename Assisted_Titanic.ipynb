{
 "cells": [
  {
   "cell_type": "markdown",
   "metadata": {},
   "source": [
    "                                                     **Sinking of Titanic**\n",
    "![Image of Titanic](http://www.titanicuniverse.com/wp-content/uploads/2009/12/titanic-disaster-300x244.jpg)\n",
    "\n",
    "\n",
    "The sinking of the RMS Titanic is one of the most infamous shipwrecks in history. On April 15, 1912, during her maiden voyage, the Titanic sank after colliding with an iceberg, killing 1502 out of 2224 passengers and crew. This sensational tragedy shocked the international community and led to better safety regulations for ships.\n",
    "\n",
    "One of the reasons that the shipwreck led to such loss of life was that there were not enough lifeboats for the passengers and crew. Although there was some element of luck involved in surviving the sinking, some groups of people were more likely to survive than others, such as women, children, and the upper-class.\n",
    "\n",
    "Do a complete analysis on what sorts of people were likely to survive. "
   ]
  },
  {
   "cell_type": "code",
   "execution_count": 1,
   "metadata": {},
   "outputs": [],
   "source": [
    "import pandas as pd\n",
    "import numpy as np\n",
    "\n",
    "# import plotting libraries\n",
    "import matplotlib\n",
    "import matplotlib.pyplot as plt\n",
    "from pandas.plotting import scatter_matrix\n",
    "%matplotlib inline \n",
    "\n",
    "import seaborn as sns\n",
    "sns.set(style=\"white\", color_codes=True)\n",
    "sns.set(font_scale=1.5)\n",
    "\n",
    "# import libraries for model validation\n",
    "from sklearn.linear_model import LogisticRegression\n",
    "from sklearn.model_selection import train_test_split\n",
    "\n",
    "# import libraries for metrics and reporting\n",
    "from sklearn.metrics import confusion_matrix\n",
    "from sklearn.metrics import classification_report\n",
    "from sklearn.metrics import accuracy_score\n",
    "from sklearn.metrics import precision_score\n",
    "from sklearn.metrics import recall_score\n",
    "from sklearn.metrics import f1_score\n",
    "from sklearn import metrics\n",
    "from sklearn.metrics import classification_report"
   ]
  },
  {
   "cell_type": "code",
   "execution_count": 2,
   "metadata": {},
   "outputs": [
    {
     "data": {
      "text/plain": [
       "(891, 12)"
      ]
     },
     "execution_count": 2,
     "metadata": {},
     "output_type": "execute_result"
    }
   ],
   "source": [
    "df_train = pd.read_csv(\"train.csv\")\n",
    "df_train.shape"
   ]
  },
  {
   "cell_type": "code",
   "execution_count": 3,
   "metadata": {},
   "outputs": [
    {
     "data": {
      "text/plain": [
       "0    549\n",
       "1    342\n",
       "Name: Survived, dtype: int64"
      ]
     },
     "execution_count": 3,
     "metadata": {},
     "output_type": "execute_result"
    }
   ],
   "source": [
    "# see distinct values in the Sex column\n",
    "df_train.Survived.value_counts()"
   ]
  },
  {
   "cell_type": "code",
   "execution_count": 4,
   "metadata": {},
   "outputs": [
    {
     "data": {
      "text/plain": [
       "male      577\n",
       "female    314\n",
       "Name: Sex, dtype: int64"
      ]
     },
     "execution_count": 4,
     "metadata": {},
     "output_type": "execute_result"
    }
   ],
   "source": [
    "# see distinct values in the Sex column\n",
    "df_train.Sex.value_counts()"
   ]
  },
  {
   "cell_type": "code",
   "execution_count": 5,
   "metadata": {},
   "outputs": [
    {
     "data": {
      "text/plain": [
       "S    644\n",
       "C    168\n",
       "Q     77\n",
       "Name: Embarked, dtype: int64"
      ]
     },
     "execution_count": 5,
     "metadata": {},
     "output_type": "execute_result"
    }
   ],
   "source": [
    "# see distinct values in the Embarked column\n",
    "df_train.Embarked.value_counts()"
   ]
  },
  {
   "cell_type": "code",
   "execution_count": 6,
   "metadata": {},
   "outputs": [
    {
     "data": {
      "text/plain": [
       "PassengerId      0\n",
       "Survived         0\n",
       "Pclass           0\n",
       "Name             0\n",
       "Sex              0\n",
       "Age            177\n",
       "SibSp            0\n",
       "Parch            0\n",
       "Ticket           0\n",
       "Fare             0\n",
       "Cabin          687\n",
       "Embarked         2\n",
       "dtype: int64"
      ]
     },
     "execution_count": 6,
     "metadata": {},
     "output_type": "execute_result"
    }
   ],
   "source": [
    "# Checking for missing values\n",
    "# It's easy to check for missing values by calling the isnull() method, and \n",
    "# the sum() method off of that, to return a tally of all the True values that are returned \n",
    "# by the isnull() method.\n",
    "\n",
    "df_train.isnull().sum()"
   ]
  },
  {
   "cell_type": "code",
   "execution_count": 7,
   "metadata": {},
   "outputs": [
    {
     "data": {
      "text/plain": [
       "(891, 12)"
      ]
     },
     "execution_count": 7,
     "metadata": {},
     "output_type": "execute_result"
    }
   ],
   "source": [
    "df_train.shape"
   ]
  },
  {
   "cell_type": "code",
   "execution_count": 8,
   "metadata": {},
   "outputs": [],
   "source": [
    "# there are only 891 rows in the titanic data frame. Cabin is almost all missing values, \n",
    "# so we can drop that variable completely, \n",
    "\n",
    "# but what about age? \n",
    "# Age seems like a relevant predictor for survival right? We'd want to keep the variables, \n",
    "# but it has 177 missing values.  \n",
    "\n",
    "# Need to find a way to approximate for those missing values!"
   ]
  },
  {
   "cell_type": "code",
   "execution_count": 9,
   "metadata": {},
   "outputs": [],
   "source": [
    "# drop all the variables that aren't relevant for predicting survival. \n",
    "# We should at least keep the following:\n",
    "\n",
    "# Survived - This variable is obviously relevant.\n",
    "# Pclass   - Does a passenger's class on the boat affect their survivability?\n",
    "# Sex      - Could a passenger's gender impact their survival rate?\n",
    "# Age      - Does a person's age impact their survival rate?\n",
    "# SibSp    - Does the number of relatives on the boat (that are siblings or a spouse) \n",
    "#            affect a person survivability? Probability\n",
    "# Parch    - Does the number of relatives on the boat (that are children or parents) \n",
    "#            affect a person survivability? Probability\n",
    "# Fare     - Does the fare a person paid effect his survivability? Maybe - let's keep it.\n",
    "# Embarked - Does a person's point of embarkation matter? \n",
    "#            It depends on how the boat was filled... Let's keep it."
   ]
  },
  {
   "cell_type": "code",
   "execution_count": 10,
   "metadata": {},
   "outputs": [],
   "source": [
    "# What about a person's name, ticket number, and passenger ID number? \n",
    "# They're irrelavant for predicting survivability. \n",
    "# And as you recall, the cabin variable is almost all missing values, \n",
    "# so we can just drop all of these."
   ]
  },
  {
   "cell_type": "code",
   "execution_count": 11,
   "metadata": {},
   "outputs": [
    {
     "data": {
      "text/html": [
       "<div>\n",
       "<style scoped>\n",
       "    .dataframe tbody tr th:only-of-type {\n",
       "        vertical-align: middle;\n",
       "    }\n",
       "\n",
       "    .dataframe tbody tr th {\n",
       "        vertical-align: top;\n",
       "    }\n",
       "\n",
       "    .dataframe thead th {\n",
       "        text-align: right;\n",
       "    }\n",
       "</style>\n",
       "<table border=\"1\" class=\"dataframe\">\n",
       "  <thead>\n",
       "    <tr style=\"text-align: right;\">\n",
       "      <th></th>\n",
       "      <th>Survived</th>\n",
       "      <th>Pclass</th>\n",
       "      <th>Sex</th>\n",
       "      <th>Age</th>\n",
       "      <th>SibSp</th>\n",
       "      <th>Parch</th>\n",
       "      <th>Fare</th>\n",
       "      <th>Embarked</th>\n",
       "    </tr>\n",
       "  </thead>\n",
       "  <tbody>\n",
       "    <tr>\n",
       "      <td>0</td>\n",
       "      <td>0</td>\n",
       "      <td>3</td>\n",
       "      <td>male</td>\n",
       "      <td>22.0</td>\n",
       "      <td>1</td>\n",
       "      <td>0</td>\n",
       "      <td>7.2500</td>\n",
       "      <td>S</td>\n",
       "    </tr>\n",
       "    <tr>\n",
       "      <td>1</td>\n",
       "      <td>1</td>\n",
       "      <td>1</td>\n",
       "      <td>female</td>\n",
       "      <td>38.0</td>\n",
       "      <td>1</td>\n",
       "      <td>0</td>\n",
       "      <td>71.2833</td>\n",
       "      <td>C</td>\n",
       "    </tr>\n",
       "    <tr>\n",
       "      <td>2</td>\n",
       "      <td>1</td>\n",
       "      <td>3</td>\n",
       "      <td>female</td>\n",
       "      <td>26.0</td>\n",
       "      <td>0</td>\n",
       "      <td>0</td>\n",
       "      <td>7.9250</td>\n",
       "      <td>S</td>\n",
       "    </tr>\n",
       "    <tr>\n",
       "      <td>3</td>\n",
       "      <td>1</td>\n",
       "      <td>1</td>\n",
       "      <td>female</td>\n",
       "      <td>35.0</td>\n",
       "      <td>1</td>\n",
       "      <td>0</td>\n",
       "      <td>53.1000</td>\n",
       "      <td>S</td>\n",
       "    </tr>\n",
       "    <tr>\n",
       "      <td>4</td>\n",
       "      <td>0</td>\n",
       "      <td>3</td>\n",
       "      <td>male</td>\n",
       "      <td>35.0</td>\n",
       "      <td>0</td>\n",
       "      <td>0</td>\n",
       "      <td>8.0500</td>\n",
       "      <td>S</td>\n",
       "    </tr>\n",
       "  </tbody>\n",
       "</table>\n",
       "</div>"
      ],
      "text/plain": [
       "   Survived  Pclass     Sex   Age  SibSp  Parch     Fare Embarked\n",
       "0         0       3    male  22.0      1      0   7.2500        S\n",
       "1         1       1  female  38.0      1      0  71.2833        C\n",
       "2         1       3  female  26.0      0      0   7.9250        S\n",
       "3         1       1  female  35.0      1      0  53.1000        S\n",
       "4         0       3    male  35.0      0      0   8.0500        S"
      ]
     },
     "execution_count": 11,
     "metadata": {},
     "output_type": "execute_result"
    }
   ],
   "source": [
    "df_train = df_train.drop(['PassengerId','Name','Ticket','Cabin'], axis=1)\n",
    "df_train.head()"
   ]
  },
  {
   "cell_type": "code",
   "execution_count": 12,
   "metadata": {},
   "outputs": [],
   "source": [
    "# now we need to deal with the missing values in the age variable.\n",
    "\n",
    "# Speaking roughly, we could say that the younger a passenger is, the more likely it is for them \n",
    "# to be in 3rd class. The older a passenger is, the more likely it is for them to be in 1st class. So there is a loose relationship between these variables. So, let's write a function that approximates a passengers age, based on their class. From the box plot, it looks like the average age of 1st class passengers is about 37, 2nd class passengers is 29, and 3rd class pasengers is 24.\n",
    "\n",
    "# find each null value in the Age variable and for each null, checks the value of the Pclass \n",
    "# and assigns an age value according to the average age of passengers in that class.\n",
    "\n",
    "def age_approx(cols):\n",
    "    Age    = cols[0]\n",
    "    Pclass = cols[1]\n",
    "    \n",
    "    if pd.isnull(Age):\n",
    "        if Pclass == 1:\n",
    "            return 37\n",
    "        elif Pclass == 2:\n",
    "            return 29\n",
    "        else:\n",
    "            return 24\n",
    "    else:\n",
    "        return Age"
   ]
  },
  {
   "cell_type": "code",
   "execution_count": 13,
   "metadata": {},
   "outputs": [
    {
     "name": "stdout",
     "output_type": "stream",
     "text": [
      "38.233440860215055\n",
      "29.87763005780347\n",
      "25.14061971830986\n"
     ]
    }
   ],
   "source": [
    "# avg age per class\n",
    "print(df_train[df_train['Pclass']== 1]['Age'].mean())\n",
    "print(df_train[df_train['Pclass']== 2]['Age'].mean())\n",
    "print(df_train[df_train['Pclass']== 3]['Age'].mean())"
   ]
  },
  {
   "cell_type": "code",
   "execution_count": 14,
   "metadata": {},
   "outputs": [
    {
     "data": {
      "text/html": [
       "<div>\n",
       "<style scoped>\n",
       "    .dataframe tbody tr th:only-of-type {\n",
       "        vertical-align: middle;\n",
       "    }\n",
       "\n",
       "    .dataframe tbody tr th {\n",
       "        vertical-align: top;\n",
       "    }\n",
       "\n",
       "    .dataframe thead th {\n",
       "        text-align: right;\n",
       "    }\n",
       "</style>\n",
       "<table border=\"1\" class=\"dataframe\">\n",
       "  <thead>\n",
       "    <tr style=\"text-align: right;\">\n",
       "      <th></th>\n",
       "      <th>Survived</th>\n",
       "      <th>Age</th>\n",
       "      <th>SibSp</th>\n",
       "      <th>Parch</th>\n",
       "      <th>Fare</th>\n",
       "    </tr>\n",
       "    <tr>\n",
       "      <th>Pclass</th>\n",
       "      <th></th>\n",
       "      <th></th>\n",
       "      <th></th>\n",
       "      <th></th>\n",
       "      <th></th>\n",
       "    </tr>\n",
       "  </thead>\n",
       "  <tbody>\n",
       "    <tr>\n",
       "      <td>1</td>\n",
       "      <td>0.629630</td>\n",
       "      <td>38.233441</td>\n",
       "      <td>0.416667</td>\n",
       "      <td>0.356481</td>\n",
       "      <td>84.154687</td>\n",
       "    </tr>\n",
       "    <tr>\n",
       "      <td>2</td>\n",
       "      <td>0.472826</td>\n",
       "      <td>29.877630</td>\n",
       "      <td>0.402174</td>\n",
       "      <td>0.380435</td>\n",
       "      <td>20.662183</td>\n",
       "    </tr>\n",
       "    <tr>\n",
       "      <td>3</td>\n",
       "      <td>0.242363</td>\n",
       "      <td>25.140620</td>\n",
       "      <td>0.615071</td>\n",
       "      <td>0.393075</td>\n",
       "      <td>13.675550</td>\n",
       "    </tr>\n",
       "  </tbody>\n",
       "</table>\n",
       "</div>"
      ],
      "text/plain": [
       "        Survived        Age     SibSp     Parch       Fare\n",
       "Pclass                                                    \n",
       "1       0.629630  38.233441  0.416667  0.356481  84.154687\n",
       "2       0.472826  29.877630  0.402174  0.380435  20.662183\n",
       "3       0.242363  25.140620  0.615071  0.393075  13.675550"
      ]
     },
     "execution_count": 14,
     "metadata": {},
     "output_type": "execute_result"
    }
   ],
   "source": [
    "df_train.groupby(['Pclass']).mean()\n"
   ]
  },
  {
   "cell_type": "code",
   "execution_count": 16,
   "metadata": {},
   "outputs": [],
   "source": [
    "df_train['Age'] = df_train[['Age', 'Pclass']].apply(age_approx, axis=1)"
   ]
  },
  {
   "cell_type": "code",
   "execution_count": 17,
   "metadata": {},
   "outputs": [
    {
     "data": {
      "text/plain": [
       "Survived    0\n",
       "Pclass      0\n",
       "Sex         0\n",
       "Age         0\n",
       "SibSp       0\n",
       "Parch       0\n",
       "Fare        0\n",
       "Embarked    2\n",
       "dtype: int64"
      ]
     },
     "execution_count": 17,
     "metadata": {},
     "output_type": "execute_result"
    }
   ],
   "source": [
    "# check for null again\n",
    "df_train.isnull().sum()"
   ]
  },
  {
   "cell_type": "code",
   "execution_count": 18,
   "metadata": {},
   "outputs": [],
   "source": [
    "# There are 2 null values in the embarked variable. We can drop those 2 records without \n",
    "# loosing too much important information from our dataset, so we will do that."
   ]
  },
  {
   "cell_type": "code",
   "execution_count": 19,
   "metadata": {},
   "outputs": [
    {
     "data": {
      "text/plain": [
       "Survived    0\n",
       "Pclass      0\n",
       "Sex         0\n",
       "Age         0\n",
       "SibSp       0\n",
       "Parch       0\n",
       "Fare        0\n",
       "Embarked    0\n",
       "dtype: int64"
      ]
     },
     "execution_count": 19,
     "metadata": {},
     "output_type": "execute_result"
    }
   ],
   "source": [
    "df_train.dropna(inplace=True)\n",
    "df_train.isnull().sum()"
   ]
  },
  {
   "cell_type": "code",
   "execution_count": 20,
   "metadata": {},
   "outputs": [],
   "source": [
    "# Converting categorical variables to a dummy indicators ************************"
   ]
  },
  {
   "cell_type": "code",
   "execution_count": 21,
   "metadata": {},
   "outputs": [
    {
     "data": {
      "text/plain": [
       "Survived      int64\n",
       "Pclass        int64\n",
       "Sex          object\n",
       "Age         float64\n",
       "SibSp         int64\n",
       "Parch         int64\n",
       "Fare        float64\n",
       "Embarked     object\n",
       "dtype: object"
      ]
     },
     "execution_count": 21,
     "metadata": {},
     "output_type": "execute_result"
    }
   ],
   "source": [
    "# object signifies they are of categorical/string type data\n",
    "df_train.dtypes"
   ]
  },
  {
   "cell_type": "code",
   "execution_count": 22,
   "metadata": {},
   "outputs": [
    {
     "data": {
      "text/html": [
       "<div>\n",
       "<style scoped>\n",
       "    .dataframe tbody tr th:only-of-type {\n",
       "        vertical-align: middle;\n",
       "    }\n",
       "\n",
       "    .dataframe tbody tr th {\n",
       "        vertical-align: top;\n",
       "    }\n",
       "\n",
       "    .dataframe thead th {\n",
       "        text-align: right;\n",
       "    }\n",
       "</style>\n",
       "<table border=\"1\" class=\"dataframe\">\n",
       "  <thead>\n",
       "    <tr style=\"text-align: right;\">\n",
       "      <th></th>\n",
       "      <th>Survived</th>\n",
       "      <th>Pclass</th>\n",
       "      <th>Age</th>\n",
       "      <th>SibSp</th>\n",
       "      <th>Parch</th>\n",
       "      <th>Fare</th>\n",
       "      <th>Embarked</th>\n",
       "      <th>Sex_female</th>\n",
       "      <th>Sex_male</th>\n",
       "    </tr>\n",
       "  </thead>\n",
       "  <tbody>\n",
       "    <tr>\n",
       "      <td>0</td>\n",
       "      <td>0</td>\n",
       "      <td>3</td>\n",
       "      <td>22.0</td>\n",
       "      <td>1</td>\n",
       "      <td>0</td>\n",
       "      <td>7.2500</td>\n",
       "      <td>S</td>\n",
       "      <td>0</td>\n",
       "      <td>1</td>\n",
       "    </tr>\n",
       "    <tr>\n",
       "      <td>1</td>\n",
       "      <td>1</td>\n",
       "      <td>1</td>\n",
       "      <td>38.0</td>\n",
       "      <td>1</td>\n",
       "      <td>0</td>\n",
       "      <td>71.2833</td>\n",
       "      <td>C</td>\n",
       "      <td>1</td>\n",
       "      <td>0</td>\n",
       "    </tr>\n",
       "    <tr>\n",
       "      <td>2</td>\n",
       "      <td>1</td>\n",
       "      <td>3</td>\n",
       "      <td>26.0</td>\n",
       "      <td>0</td>\n",
       "      <td>0</td>\n",
       "      <td>7.9250</td>\n",
       "      <td>S</td>\n",
       "      <td>1</td>\n",
       "      <td>0</td>\n",
       "    </tr>\n",
       "    <tr>\n",
       "      <td>3</td>\n",
       "      <td>1</td>\n",
       "      <td>1</td>\n",
       "      <td>35.0</td>\n",
       "      <td>1</td>\n",
       "      <td>0</td>\n",
       "      <td>53.1000</td>\n",
       "      <td>S</td>\n",
       "      <td>1</td>\n",
       "      <td>0</td>\n",
       "    </tr>\n",
       "    <tr>\n",
       "      <td>4</td>\n",
       "      <td>0</td>\n",
       "      <td>3</td>\n",
       "      <td>35.0</td>\n",
       "      <td>0</td>\n",
       "      <td>0</td>\n",
       "      <td>8.0500</td>\n",
       "      <td>S</td>\n",
       "      <td>0</td>\n",
       "      <td>1</td>\n",
       "    </tr>\n",
       "    <tr>\n",
       "      <td>...</td>\n",
       "      <td>...</td>\n",
       "      <td>...</td>\n",
       "      <td>...</td>\n",
       "      <td>...</td>\n",
       "      <td>...</td>\n",
       "      <td>...</td>\n",
       "      <td>...</td>\n",
       "      <td>...</td>\n",
       "      <td>...</td>\n",
       "    </tr>\n",
       "    <tr>\n",
       "      <td>886</td>\n",
       "      <td>0</td>\n",
       "      <td>2</td>\n",
       "      <td>27.0</td>\n",
       "      <td>0</td>\n",
       "      <td>0</td>\n",
       "      <td>13.0000</td>\n",
       "      <td>S</td>\n",
       "      <td>0</td>\n",
       "      <td>1</td>\n",
       "    </tr>\n",
       "    <tr>\n",
       "      <td>887</td>\n",
       "      <td>1</td>\n",
       "      <td>1</td>\n",
       "      <td>19.0</td>\n",
       "      <td>0</td>\n",
       "      <td>0</td>\n",
       "      <td>30.0000</td>\n",
       "      <td>S</td>\n",
       "      <td>1</td>\n",
       "      <td>0</td>\n",
       "    </tr>\n",
       "    <tr>\n",
       "      <td>888</td>\n",
       "      <td>0</td>\n",
       "      <td>3</td>\n",
       "      <td>24.0</td>\n",
       "      <td>1</td>\n",
       "      <td>2</td>\n",
       "      <td>23.4500</td>\n",
       "      <td>S</td>\n",
       "      <td>1</td>\n",
       "      <td>0</td>\n",
       "    </tr>\n",
       "    <tr>\n",
       "      <td>889</td>\n",
       "      <td>1</td>\n",
       "      <td>1</td>\n",
       "      <td>26.0</td>\n",
       "      <td>0</td>\n",
       "      <td>0</td>\n",
       "      <td>30.0000</td>\n",
       "      <td>C</td>\n",
       "      <td>0</td>\n",
       "      <td>1</td>\n",
       "    </tr>\n",
       "    <tr>\n",
       "      <td>890</td>\n",
       "      <td>0</td>\n",
       "      <td>3</td>\n",
       "      <td>32.0</td>\n",
       "      <td>0</td>\n",
       "      <td>0</td>\n",
       "      <td>7.7500</td>\n",
       "      <td>Q</td>\n",
       "      <td>0</td>\n",
       "      <td>1</td>\n",
       "    </tr>\n",
       "  </tbody>\n",
       "</table>\n",
       "<p>889 rows × 9 columns</p>\n",
       "</div>"
      ],
      "text/plain": [
       "     Survived  Pclass   Age  SibSp  Parch     Fare Embarked  Sex_female  \\\n",
       "0           0       3  22.0      1      0   7.2500        S           0   \n",
       "1           1       1  38.0      1      0  71.2833        C           1   \n",
       "2           1       3  26.0      0      0   7.9250        S           1   \n",
       "3           1       1  35.0      1      0  53.1000        S           1   \n",
       "4           0       3  35.0      0      0   8.0500        S           0   \n",
       "..        ...     ...   ...    ...    ...      ...      ...         ...   \n",
       "886         0       2  27.0      0      0  13.0000        S           0   \n",
       "887         1       1  19.0      0      0  30.0000        S           1   \n",
       "888         0       3  24.0      1      2  23.4500        S           1   \n",
       "889         1       1  26.0      0      0  30.0000        C           0   \n",
       "890         0       3  32.0      0      0   7.7500        Q           0   \n",
       "\n",
       "     Sex_male  \n",
       "0           1  \n",
       "1           0  \n",
       "2           0  \n",
       "3           0  \n",
       "4           1  \n",
       "..        ...  \n",
       "886         1  \n",
       "887         0  \n",
       "888         0  \n",
       "889         1  \n",
       "890         1  \n",
       "\n",
       "[889 rows x 9 columns]"
      ]
     },
     "execution_count": 22,
     "metadata": {},
     "output_type": "execute_result"
    }
   ],
   "source": [
    "#pd.get_dummies(df_train['Sex'], drop_first=True)\n",
    "df_train_dummied = pd.get_dummies(df_train, columns=[\"Sex\"])\n",
    "df_train_dummied"
   ]
  },
  {
   "cell_type": "code",
   "execution_count": 23,
   "metadata": {},
   "outputs": [],
   "source": [
    "df_train_dummied = pd.get_dummies(df_train_dummied, columns=[\"Embarked\"])"
   ]
  },
  {
   "cell_type": "code",
   "execution_count": 24,
   "metadata": {},
   "outputs": [
    {
     "data": {
      "text/html": [
       "<div>\n",
       "<style scoped>\n",
       "    .dataframe tbody tr th:only-of-type {\n",
       "        vertical-align: middle;\n",
       "    }\n",
       "\n",
       "    .dataframe tbody tr th {\n",
       "        vertical-align: top;\n",
       "    }\n",
       "\n",
       "    .dataframe thead th {\n",
       "        text-align: right;\n",
       "    }\n",
       "</style>\n",
       "<table border=\"1\" class=\"dataframe\">\n",
       "  <thead>\n",
       "    <tr style=\"text-align: right;\">\n",
       "      <th></th>\n",
       "      <th>Survived</th>\n",
       "      <th>Pclass</th>\n",
       "      <th>Age</th>\n",
       "      <th>SibSp</th>\n",
       "      <th>Parch</th>\n",
       "      <th>Fare</th>\n",
       "      <th>Sex_female</th>\n",
       "      <th>Sex_male</th>\n",
       "      <th>Embarked_C</th>\n",
       "      <th>Embarked_Q</th>\n",
       "      <th>Embarked_S</th>\n",
       "    </tr>\n",
       "  </thead>\n",
       "  <tbody>\n",
       "    <tr>\n",
       "      <td>0</td>\n",
       "      <td>0</td>\n",
       "      <td>3</td>\n",
       "      <td>22.0</td>\n",
       "      <td>1</td>\n",
       "      <td>0</td>\n",
       "      <td>7.2500</td>\n",
       "      <td>0</td>\n",
       "      <td>1</td>\n",
       "      <td>0</td>\n",
       "      <td>0</td>\n",
       "      <td>1</td>\n",
       "    </tr>\n",
       "    <tr>\n",
       "      <td>1</td>\n",
       "      <td>1</td>\n",
       "      <td>1</td>\n",
       "      <td>38.0</td>\n",
       "      <td>1</td>\n",
       "      <td>0</td>\n",
       "      <td>71.2833</td>\n",
       "      <td>1</td>\n",
       "      <td>0</td>\n",
       "      <td>1</td>\n",
       "      <td>0</td>\n",
       "      <td>0</td>\n",
       "    </tr>\n",
       "    <tr>\n",
       "      <td>2</td>\n",
       "      <td>1</td>\n",
       "      <td>3</td>\n",
       "      <td>26.0</td>\n",
       "      <td>0</td>\n",
       "      <td>0</td>\n",
       "      <td>7.9250</td>\n",
       "      <td>1</td>\n",
       "      <td>0</td>\n",
       "      <td>0</td>\n",
       "      <td>0</td>\n",
       "      <td>1</td>\n",
       "    </tr>\n",
       "    <tr>\n",
       "      <td>3</td>\n",
       "      <td>1</td>\n",
       "      <td>1</td>\n",
       "      <td>35.0</td>\n",
       "      <td>1</td>\n",
       "      <td>0</td>\n",
       "      <td>53.1000</td>\n",
       "      <td>1</td>\n",
       "      <td>0</td>\n",
       "      <td>0</td>\n",
       "      <td>0</td>\n",
       "      <td>1</td>\n",
       "    </tr>\n",
       "    <tr>\n",
       "      <td>4</td>\n",
       "      <td>0</td>\n",
       "      <td>3</td>\n",
       "      <td>35.0</td>\n",
       "      <td>0</td>\n",
       "      <td>0</td>\n",
       "      <td>8.0500</td>\n",
       "      <td>0</td>\n",
       "      <td>1</td>\n",
       "      <td>0</td>\n",
       "      <td>0</td>\n",
       "      <td>1</td>\n",
       "    </tr>\n",
       "  </tbody>\n",
       "</table>\n",
       "</div>"
      ],
      "text/plain": [
       "   Survived  Pclass   Age  SibSp  Parch     Fare  Sex_female  Sex_male  \\\n",
       "0         0       3  22.0      1      0   7.2500           0         1   \n",
       "1         1       1  38.0      1      0  71.2833           1         0   \n",
       "2         1       3  26.0      0      0   7.9250           1         0   \n",
       "3         1       1  35.0      1      0  53.1000           1         0   \n",
       "4         0       3  35.0      0      0   8.0500           0         1   \n",
       "\n",
       "   Embarked_C  Embarked_Q  Embarked_S  \n",
       "0           0           0           1  \n",
       "1           1           0           0  \n",
       "2           0           0           1  \n",
       "3           0           0           1  \n",
       "4           0           0           1  "
      ]
     },
     "execution_count": 24,
     "metadata": {},
     "output_type": "execute_result"
    }
   ],
   "source": [
    "df_train_dummied.head()"
   ]
  },
  {
   "cell_type": "code",
   "execution_count": 25,
   "metadata": {
    "scrolled": true
   },
   "outputs": [
    {
     "data": {
      "text/plain": [
       "<matplotlib.axes._subplots.AxesSubplot at 0x828fb90508>"
      ]
     },
     "execution_count": 25,
     "metadata": {},
     "output_type": "execute_result"
    },
    {
     "data": {
      "image/png": "[encoded data removed]",
      "text/plain": [
       "<Figure size 432x288 with 2 Axes>"
      ]
     },
     "metadata": {
      "needs_background": "light"
     },
     "output_type": "display_data"
    }
   ],
   "source": [
    "# Checking for independence between features\n",
    "plt.figure(figsize=(6,4))\n",
    "sns.heatmap(df_train_dummied.corr(),annot=True)  "
   ]
  },
  {
   "cell_type": "code",
   "execution_count": 26,
   "metadata": {},
   "outputs": [],
   "source": [
    "used_features =[\n",
    "    \"Pclass\",\n",
    "    \"Age\",\n",
    "    \"SibSp\",\n",
    "    \"Parch\",\n",
    "    \"Sex_female\",\n",
    "    \"Sex_male\",\n",
    "    \"Embarked_C\",\n",
    "    \"Embarked_Q\",\n",
    "    \"Embarked_S\"\n",
    "]\n",
    "\n",
    "X = df_train_dummied[used_features].values\n",
    "y = df_train_dummied['Survived']"
   ]
  },
  {
   "cell_type": "code",
   "execution_count": 27,
   "metadata": {},
   "outputs": [
    {
     "data": {
      "text/plain": [
       "array([[ 3., 22.,  1., ...,  0.,  0.,  1.],\n",
       "       [ 1., 38.,  1., ...,  1.,  0.,  0.],\n",
       "       [ 3., 26.,  0., ...,  0.,  0.,  1.],\n",
       "       ...,\n",
       "       [ 3., 24.,  1., ...,  0.,  0.,  1.],\n",
       "       [ 1., 26.,  0., ...,  1.,  0.,  0.],\n",
       "       [ 3., 32.,  0., ...,  0.,  1.,  0.]])"
      ]
     },
     "execution_count": 27,
     "metadata": {},
     "output_type": "execute_result"
    }
   ],
   "source": [
    "df_train_dummied[used_features].values"
   ]
  },
  {
   "cell_type": "code",
   "execution_count": 28,
   "metadata": {},
   "outputs": [],
   "source": [
    "# Split dataset in training and test datasets\n",
    "# X_train, X_test = train_test_split(df_train, test_size=0.5, random_state=int(time.time()))\n",
    "X_train, X_test, y_train, y_test = train_test_split(X, y, test_size=0.3, random_state=11)\n"
   ]
  },
  {
   "cell_type": "code",
   "execution_count": 29,
   "metadata": {},
   "outputs": [
    {
     "name": "stdout",
     "output_type": "stream",
     "text": [
      "(622, 9)\n",
      "(267, 9)\n",
      "(622,)\n",
      "(267,)\n"
     ]
    }
   ],
   "source": [
    "print(X_train.shape)\n",
    "print(X_test.shape)\n",
    "print(y_train.shape)\n",
    "print(y_test.shape)"
   ]
  },
  {
   "cell_type": "code",
   "execution_count": 30,
   "metadata": {},
   "outputs": [],
   "source": [
    "# Instantiate the classifier\n",
    "LogReg = LogisticRegression()\n"
   ]
  },
  {
   "cell_type": "code",
   "execution_count": 31,
   "metadata": {},
   "outputs": [
    {
     "name": "stderr",
     "output_type": "stream",
     "text": [
      "C:\\Users\\ap\\Anaconda3\\lib\\site-packages\\sklearn\\linear_model\\logistic.py:432: FutureWarning: Default solver will be changed to 'lbfgs' in 0.22. Specify a solver to silence this warning.\n",
      "  FutureWarning)\n"
     ]
    },
    {
     "data": {
      "text/plain": [
       "LogisticRegression(C=1.0, class_weight=None, dual=False, fit_intercept=True,\n",
       "                   intercept_scaling=1, l1_ratio=None, max_iter=100,\n",
       "                   multi_class='warn', n_jobs=None, penalty='l2',\n",
       "                   random_state=None, solver='warn', tol=0.0001, verbose=0,\n",
       "                   warm_start=False)"
      ]
     },
     "execution_count": 31,
     "metadata": {},
     "output_type": "execute_result"
    }
   ],
   "source": [
    "# Train classifier\n",
    "LogReg.fit(X_train, y_train)"
   ]
  },
  {
   "cell_type": "code",
   "execution_count": 32,
   "metadata": {},
   "outputs": [],
   "source": [
    "y_pred = LogReg.predict(X_test)"
   ]
  },
  {
   "cell_type": "code",
   "execution_count": 33,
   "metadata": {},
   "outputs": [
    {
     "data": {
      "text/plain": [
       "array([[143,  18],\n",
       "       [ 23,  83]], dtype=int64)"
      ]
     },
     "execution_count": 33,
     "metadata": {},
     "output_type": "execute_result"
    }
   ],
   "source": [
    "metrics.confusion_matrix(y_test, y_pred)"
   ]
  },
  {
   "cell_type": "code",
   "execution_count": 40,
   "metadata": {},
   "outputs": [
    {
     "data": {
      "text/plain": [
       "0.846441947565543"
      ]
     },
     "execution_count": 40,
     "metadata": {},
     "output_type": "execute_result"
    }
   ],
   "source": [
    "metrics.accuracy_score(y_test, y_pred)"
   ]
  },
  {
   "cell_type": "code",
   "execution_count": 41,
   "metadata": {},
   "outputs": [
    {
     "data": {
      "text/plain": [
       "267"
      ]
     },
     "execution_count": 41,
     "metadata": {},
     "output_type": "execute_result"
    }
   ],
   "source": [
    "len(X_test)"
   ]
  },
  {
   "cell_type": "code",
   "execution_count": 42,
   "metadata": {},
   "outputs": [
    {
     "name": "stdout",
     "output_type": "stream",
     "text": [
      "              precision    recall  f1-score   support\n",
      "\n",
      "           0       0.86      0.89      0.87       161\n",
      "           1       0.82      0.78      0.80       106\n",
      "\n",
      "    accuracy                           0.85       267\n",
      "   macro avg       0.84      0.84      0.84       267\n",
      "weighted avg       0.85      0.85      0.85       267\n",
      "\n"
     ]
    }
   ],
   "source": [
    "print(classification_report(y_test, y_pred))"
   ]
  },
  {
   "cell_type": "code",
   "execution_count": 43,
   "metadata": {},
   "outputs": [
    {
     "data": {
      "text/plain": [
       "array([[-1.04235235, -0.03066347, -0.22601303, -0.12982814,  2.07285001,\n",
       "        -0.25356755,  0.82751581,  0.67729244,  0.31447421]])"
      ]
     },
     "execution_count": 43,
     "metadata": {},
     "output_type": "execute_result"
    }
   ],
   "source": [
    "LogReg.coef_"
   ]
  },
  {
   "cell_type": "code",
   "execution_count": 44,
   "metadata": {},
   "outputs": [
    {
     "data": {
      "text/plain": [
       "array([1.81928247])"
      ]
     },
     "execution_count": 44,
     "metadata": {},
     "output_type": "execute_result"
    }
   ],
   "source": [
    "LogReg.intercept_"
   ]
  },
  {
   "cell_type": "code",
   "execution_count": 45,
   "metadata": {},
   "outputs": [
    {
     "data": {
      "text/plain": [
       "Index(['Pclass', 'Age', 'SibSp', 'Parch', 'Sex_female', 'Sex_male',\n",
       "       'Embarked_C', 'Embarked_Q', 'Embarked_S'],\n",
       "      dtype='object')"
      ]
     },
     "execution_count": 45,
     "metadata": {},
     "output_type": "execute_result"
    }
   ],
   "source": [
    "df_train_dummied[used_features].columns"
   ]
  },
  {
   "cell_type": "code",
   "execution_count": 37,
   "metadata": {},
   "outputs": [
    {
     "data": {
      "text/plain": [
       "array([[ 0.35251062,  0.64748938],\n",
       "       [ 0.91301058,  0.08698942],\n",
       "       [ 0.57363878,  0.42636122],\n",
       "       [ 0.4695859 ,  0.5304141 ],\n",
       "       [ 0.83723179,  0.16276821],\n",
       "       [ 0.83054815,  0.16945185],\n",
       "       [ 0.54128907,  0.45871093],\n",
       "       [ 0.15240062,  0.84759938],\n",
       "       [ 0.08685498,  0.91314502],\n",
       "       [ 0.83479151,  0.16520849],\n",
       "       [ 0.55909164,  0.44090836],\n",
       "       [ 0.86169912,  0.13830088],\n",
       "       [ 0.83479151,  0.16520849],\n",
       "       [ 0.17927042,  0.82072958],\n",
       "       [ 0.24367448,  0.75632552],\n",
       "       [ 0.83939472,  0.16060528],\n",
       "       [ 0.86365522,  0.13634478],\n",
       "       [ 0.59790285,  0.40209715],\n",
       "       [ 0.09541022,  0.90458978],\n",
       "       [ 0.90274468,  0.09725532],\n",
       "       [ 0.43856395,  0.56143605],\n",
       "       [ 0.62421425,  0.37578575],\n",
       "       [ 0.8688469 ,  0.1311531 ],\n",
       "       [ 0.80351715,  0.19648285],\n",
       "       [ 0.87897848,  0.12102152],\n",
       "       [ 0.89402916,  0.10597084],\n",
       "       [ 0.87897848,  0.12102152],\n",
       "       [ 0.5128484 ,  0.4871516 ],\n",
       "       [ 0.71295437,  0.28704563],\n",
       "       [ 0.92620389,  0.07379611],\n",
       "       [ 0.08974658,  0.91025342],\n",
       "       [ 0.72067668,  0.27932332],\n",
       "       [ 0.89290633,  0.10709367],\n",
       "       [ 0.64240261,  0.35759739],\n",
       "       [ 0.87897848,  0.12102152],\n",
       "       [ 0.93060772,  0.06939228],\n",
       "       [ 0.37107532,  0.62892468],\n",
       "       [ 0.91144917,  0.08855083],\n",
       "       [ 0.89143138,  0.10856862],\n",
       "       [ 0.90274468,  0.09725532],\n",
       "       [ 0.08931795,  0.91068205],\n",
       "       [ 0.95504149,  0.04495851],\n",
       "       [ 0.86169912,  0.13830088],\n",
       "       [ 0.30914414,  0.69085586],\n",
       "       [ 0.51374657,  0.48625343],\n",
       "       [ 0.26767705,  0.73232295],\n",
       "       [ 0.33038512,  0.66961488],\n",
       "       [ 0.7232854 ,  0.2767146 ],\n",
       "       [ 0.47902003,  0.52097997],\n",
       "       [ 0.12875663,  0.87124337],\n",
       "       [ 0.81352626,  0.18647374],\n",
       "       [ 0.71382838,  0.28617162],\n",
       "       [ 0.25947881,  0.74052119],\n",
       "       [ 0.68062935,  0.31937065],\n",
       "       [ 0.43267881,  0.56732119],\n",
       "       [ 0.81643565,  0.18356435],\n",
       "       [ 0.1414023 ,  0.8585977 ],\n",
       "       [ 0.83479151,  0.16520849],\n",
       "       [ 0.86169912,  0.13830088],\n",
       "       [ 0.89143138,  0.10856862],\n",
       "       [ 0.22040226,  0.77959774],\n",
       "       [ 0.22040226,  0.77959774],\n",
       "       [ 0.11771045,  0.88228955],\n",
       "       [ 0.84866069,  0.15133931],\n",
       "       [ 0.59055927,  0.40944073],\n",
       "       [ 0.91052732,  0.08947268],\n",
       "       [ 0.44612775,  0.55387225],\n",
       "       [ 0.15952823,  0.84047177],\n",
       "       [ 0.07284344,  0.92715656],\n",
       "       [ 0.81301944,  0.18698056],\n",
       "       [ 0.88018261,  0.11981739],\n",
       "       [ 0.86169912,  0.13830088],\n",
       "       [ 0.09583802,  0.90416198],\n",
       "       [ 0.27511784,  0.72488216],\n",
       "       [ 0.20005066,  0.79994934],\n",
       "       [ 0.91774392,  0.08225608],\n",
       "       [ 0.3324246 ,  0.6675754 ],\n",
       "       [ 0.40184623,  0.59815377],\n",
       "       [ 0.1857345 ,  0.8142655 ],\n",
       "       [ 0.49544854,  0.50455146],\n",
       "       [ 0.83479151,  0.16520849],\n",
       "       [ 0.07291532,  0.92708468],\n",
       "       [ 0.05069017,  0.94930983],\n",
       "       [ 0.06320603,  0.93679397],\n",
       "       [ 0.07444585,  0.92555415],\n",
       "       [ 0.87897848,  0.12102152],\n",
       "       [ 0.83309684,  0.16690316],\n",
       "       [ 0.87897848,  0.12102152],\n",
       "       [ 0.8688469 ,  0.1311531 ],\n",
       "       [ 0.8352178 ,  0.1647822 ],\n",
       "       [ 0.69555729,  0.30444271],\n",
       "       [ 0.74908858,  0.25091142],\n",
       "       [ 0.76726323,  0.23273677],\n",
       "       [ 0.87897848,  0.12102152],\n",
       "       [ 0.33038512,  0.66961488],\n",
       "       [ 0.87567855,  0.12432145],\n",
       "       [ 0.07658644,  0.92341356],\n",
       "       [ 0.90540379,  0.09459621],\n",
       "       [ 0.90001908,  0.09998092],\n",
       "       [ 0.41137654,  0.58862346],\n",
       "       [ 0.36714897,  0.63285103],\n",
       "       [ 0.85600476,  0.14399524],\n",
       "       [ 0.09321366,  0.90678634],\n",
       "       [ 0.89369153,  0.10630847],\n",
       "       [ 0.89610271,  0.10389729],\n",
       "       [ 0.32412694,  0.67587306],\n",
       "       [ 0.4677994 ,  0.5322006 ],\n",
       "       [ 0.81301944,  0.18698056],\n",
       "       [ 0.60383193,  0.39616807],\n",
       "       [ 0.86123571,  0.13876429],\n",
       "       [ 0.12411467,  0.87588533],\n",
       "       [ 0.88535203,  0.11464797],\n",
       "       [ 0.18382647,  0.81617353],\n",
       "       [ 0.36502327,  0.63497673],\n",
       "       [ 0.46017345,  0.53982655],\n",
       "       [ 0.06031169,  0.93968831],\n",
       "       [ 0.85802934,  0.14197066],\n",
       "       [ 0.94110864,  0.05889136],\n",
       "       [ 0.81301944,  0.18698056],\n",
       "       [ 0.8514124 ,  0.1485876 ],\n",
       "       [ 0.83479151,  0.16520849],\n",
       "       [ 0.90274468,  0.09725532],\n",
       "       [ 0.91299415,  0.08700585],\n",
       "       [ 0.85800414,  0.14199586],\n",
       "       [ 0.9079976 ,  0.0920024 ],\n",
       "       [ 0.66535737,  0.33464263],\n",
       "       [ 0.87897848,  0.12102152],\n",
       "       [ 0.7582233 ,  0.2417767 ],\n",
       "       [ 0.8659114 ,  0.1340886 ],\n",
       "       [ 0.37383728,  0.62616272],\n",
       "       [ 0.05014589,  0.94985411],\n",
       "       [ 0.55857628,  0.44142372],\n",
       "       [ 0.28144825,  0.71855175],\n",
       "       [ 0.59932404,  0.40067596],\n",
       "       [ 0.48593237,  0.51406763],\n",
       "       [ 0.33038512,  0.66961488],\n",
       "       [ 0.81352626,  0.18647374],\n",
       "       [ 0.81632286,  0.18367714],\n",
       "       [ 0.14901285,  0.85098715],\n",
       "       [ 0.19332388,  0.80667612],\n",
       "       [ 0.7548078 ,  0.2451922 ],\n",
       "       [ 0.81301944,  0.18698056],\n",
       "       [ 0.49269625,  0.50730375],\n",
       "       [ 0.44612775,  0.55387225],\n",
       "       [ 0.91299415,  0.08700585],\n",
       "       [ 0.86645285,  0.13354715],\n",
       "       [ 0.92654129,  0.07345871],\n",
       "       [ 0.83479151,  0.16520849],\n",
       "       [ 0.1414023 ,  0.8585977 ],\n",
       "       [ 0.94325166,  0.05674834],\n",
       "       [ 0.36829912,  0.63170088],\n",
       "       [ 0.87230172,  0.12769828],\n",
       "       [ 0.425168  ,  0.574832  ],\n",
       "       [ 0.0920244 ,  0.9079756 ],\n",
       "       [ 0.86533714,  0.13466286],\n",
       "       [ 0.74328132,  0.25671868],\n",
       "       [ 0.08165334,  0.91834666],\n",
       "       [ 0.90274468,  0.09725532],\n",
       "       [ 0.18623275,  0.81376725],\n",
       "       [ 0.08572373,  0.91427627],\n",
       "       [ 0.86531304,  0.13468696],\n",
       "       [ 0.65758579,  0.34241421],\n",
       "       [ 0.84866069,  0.15133931],\n",
       "       [ 0.43455082,  0.56544918],\n",
       "       [ 0.13411918,  0.86588082],\n",
       "       [ 0.87897848,  0.12102152],\n",
       "       [ 0.85036721,  0.14963279],\n",
       "       [ 0.92175474,  0.07824526],\n",
       "       [ 0.24219742,  0.75780258],\n",
       "       [ 0.80224613,  0.19775387],\n",
       "       [ 0.91774392,  0.08225608],\n",
       "       [ 0.1950705 ,  0.8049295 ],\n",
       "       [ 0.47928551,  0.52071449],\n",
       "       [ 0.86365522,  0.13634478],\n",
       "       [ 0.87897848,  0.12102152],\n",
       "       [ 0.90540379,  0.09459621],\n",
       "       [ 0.81301944,  0.18698056],\n",
       "       [ 0.57363878,  0.42636122],\n",
       "       [ 0.61401996,  0.38598004],\n",
       "       [ 0.1414023 ,  0.8585977 ],\n",
       "       [ 0.81301944,  0.18698056],\n",
       "       [ 0.13411918,  0.86588082],\n",
       "       [ 0.61235082,  0.38764918],\n",
       "       [ 0.8542529 ,  0.1457471 ],\n",
       "       [ 0.88954983,  0.11045017],\n",
       "       [ 0.87897848,  0.12102152],\n",
       "       [ 0.25578852,  0.74421148],\n",
       "       [ 0.41492909,  0.58507091],\n",
       "       [ 0.40755501,  0.59244499],\n",
       "       [ 0.89436362,  0.10563638],\n",
       "       [ 0.08628768,  0.91371232],\n",
       "       [ 0.81919831,  0.18080169],\n",
       "       [ 0.83479151,  0.16520849],\n",
       "       [ 0.20008376,  0.79991624],\n",
       "       [ 0.87897848,  0.12102152],\n",
       "       [ 0.68058439,  0.31941561],\n",
       "       [ 0.69946952,  0.30053048],\n",
       "       [ 0.33709179,  0.66290821],\n",
       "       [ 0.05014589,  0.94985411],\n",
       "       [ 0.87897848,  0.12102152],\n",
       "       [ 0.85566264,  0.14433736],\n",
       "       [ 0.95760243,  0.04239757],\n",
       "       [ 0.83479151,  0.16520849],\n",
       "       [ 0.34736224,  0.65263776],\n",
       "       [ 0.87897848,  0.12102152],\n",
       "       [ 0.27241281,  0.72758719],\n",
       "       [ 0.93741469,  0.06258531],\n",
       "       [ 0.93631797,  0.06368203],\n",
       "       [ 0.58112089,  0.41887911],\n",
       "       [ 0.07086946,  0.92913054],\n",
       "       [ 0.91774392,  0.08225608],\n",
       "       [ 0.87897848,  0.12102152],\n",
       "       [ 0.47063075,  0.52936925],\n",
       "       [ 0.65753922,  0.34246078],\n",
       "       [ 0.38724716,  0.61275284],\n",
       "       [ 0.69381005,  0.30618995],\n",
       "       [ 0.88535203,  0.11464797],\n",
       "       [ 0.70103918,  0.29896082],\n",
       "       [ 0.98288526,  0.01711474],\n",
       "       [ 0.71295437,  0.28704563],\n",
       "       [ 0.81301944,  0.18698056],\n",
       "       [ 0.22571616,  0.77428384],\n",
       "       [ 0.93371875,  0.06628125],\n",
       "       [ 0.74481077,  0.25518923],\n",
       "       [ 0.92352248,  0.07647752],\n",
       "       [ 0.47838832,  0.52161168],\n",
       "       [ 0.82171105,  0.17828895],\n",
       "       [ 0.07580813,  0.92419187],\n",
       "       [ 0.37107532,  0.62892468],\n",
       "       [ 0.76597969,  0.23402031],\n",
       "       [ 0.69791568,  0.30208432],\n",
       "       [ 0.42989038,  0.57010962],\n",
       "       [ 0.87897848,  0.12102152],\n",
       "       [ 0.87897848,  0.12102152],\n",
       "       [ 0.30279264,  0.69720736],\n",
       "       [ 0.62059218,  0.37940782],\n",
       "       [ 0.38528326,  0.61471674],\n",
       "       [ 0.93256192,  0.06743808],\n",
       "       [ 0.17503538,  0.82496462],\n",
       "       [ 0.88535203,  0.11464797],\n",
       "       [ 0.97113869,  0.02886131],\n",
       "       [ 0.12715563,  0.87284437],\n",
       "       [ 0.93761633,  0.06238367],\n",
       "       [ 0.35502785,  0.64497215],\n",
       "       [ 0.58649978,  0.41350022],\n",
       "       [ 0.33335607,  0.66664393],\n",
       "       [ 0.90276284,  0.09723716],\n",
       "       [ 0.81301944,  0.18698056],\n",
       "       [ 0.94325166,  0.05674834],\n",
       "       [ 0.57363878,  0.42636122],\n",
       "       [ 0.08974658,  0.91025342],\n",
       "       [ 0.50518517,  0.49481483],\n",
       "       [ 0.73742683,  0.26257317],\n",
       "       [ 0.88535203,  0.11464797],\n",
       "       [ 0.27135882,  0.72864118],\n",
       "       [ 0.87897848,  0.12102152],\n",
       "       [ 0.22697243,  0.77302757],\n",
       "       [ 0.29787876,  0.70212124],\n",
       "       [ 0.92860122,  0.07139878],\n",
       "       [ 0.87897848,  0.12102152],\n",
       "       [ 0.87230172,  0.12769828],\n",
       "       [ 0.690143  ,  0.309857  ],\n",
       "       [ 0.87897848,  0.12102152],\n",
       "       [ 0.69118493,  0.30881507],\n",
       "       [ 0.38804761,  0.61195239],\n",
       "       [ 0.38215043,  0.61784957],\n",
       "       [ 0.35692708,  0.64307292]])"
      ]
     },
     "execution_count": 37,
     "metadata": {},
     "output_type": "execute_result"
    }
   ],
   "source": [
    "LogReg.predict_proba(X_test)"
   ]
  },
  {
   "cell_type": "code",
   "execution_count": null,
   "metadata": {
    "collapsed": true
   },
   "outputs": [],
   "source": []
  }
 ],
 "metadata": {
  "kernelspec": {
   "display_name": "Python 3",
   "language": "python",
   "name": "python3"
  },
  "language_info": {
   "codemirror_mode": {
    "name": "ipython",
    "version": 3
   },
   "file_extension": ".py",
   "mimetype": "text/x-python",
   "name": "python",
   "nbconvert_exporter": "python",
   "pygments_lexer": "ipython3",
   "version": "3.7.4"
  }
 },
 "nbformat": 4,
 "nbformat_minor": 2
}
